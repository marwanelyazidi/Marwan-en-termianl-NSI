{
 "cells": [
  {
   "cell_type": "markdown",
   "id": "334d431f",
   "metadata": {},
   "source": [
    "# TD4:  La recursivité"
   ]
  },
  {
   "cell_type": "markdown",
   "id": "33f806f9",
   "metadata": {},
   "source": [
    "![image avec droits](https://encrypted-tbn0.gstatic.com/images?q=tbn:ANd9GcTbYkXySHuxj-FVXmGqLFZYC7p0koUkImzK9w&usqp=CAU)"
   ]
  },
  {
   "cell_type": "markdown",
   "id": "79287422",
   "metadata": {},
   "source": [
    "<b> Nom: Prémon: <b/>. TD à rendre par l'ent consulter Pronote pour la date limite de rendu"
   ]
  },
  {
   "cell_type": "markdown",
   "id": "b7183cb4",
   "metadata": {},
   "source": [
    "Une fonction récursive est une fonction qui s’appelle elle-même"
   ]
  },
  {
   "cell_type": "markdown",
   "id": "b3f01ff9",
   "metadata": {},
   "source": [
    "![image avec droits](https://encrypted-tbn0.gstatic.com/images?q=tbn:ANd9GcRdVB2MibKI0Ce7onB9wS9nveltfLIphzv-1w&usqp=CAU)"
   ]
  },
  {
   "cell_type": "markdown",
   "id": "f96db08c",
   "metadata": {},
   "source": [
    "Vous avez probablement vu en mathématiques la récursivité lorsque vous avez étudié\n",
    "les suites définies par récurrence. On la retrouve aussi comme un puissant moyen de\n",
    "démonstration avec la démonstration par récurrence (programme de terminale de la\n",
    "spécialité mathématiques)."
   ]
  },
  {
   "cell_type": "markdown",
   "id": "3cf6c6b2",
   "metadata": {},
   "source": [
    "Dans cet exemple, on s’intéresse à la suite (u<sub>n</sub>) définie par son premier terme u<sub>0</sub>=2 et la\n",
    "formule de passage d’un terme au suivant : u<sub>n</sub>=3 u<sub>n−1</sub>."
   ]
  },
  {
   "cell_type": "markdown",
   "id": "fa26da40",
   "metadata": {},
   "source": [
    "On souhaite calculer le terme d’indice n de cette suite."
   ]
  },
  {
   "cell_type": "markdown",
   "id": "84aed0a2",
   "metadata": {},
   "source": [
    "Version itérative vs version récursive\n",
    "Version itérative\n",
    "Il s’agit de la méthode que vous avez l’habitude d’utiliser pour répondre à un problème\n",
    "de programmation : <br>pour calculer u3 par exemple, on calcule :\n",
    "<br>• u<sub>1</sub>=3×u<sub>0</sub>=3×2=6\n",
    "<br>• u<sub>2</sub>=3×u<sub>1</sub>=3×6=18\n",
    "<br>• u<sub>3</sub>=3×u<sub>2</sub>=3×18=54\n",
    "<br><b>À faire:</b> écrire une fonction qui calcule le terme d’indice n de la suite (un) de\n",
    "manière itérative."
   ]
  },
  {
   "cell_type": "code",
   "execution_count": null,
   "id": "c4d23f2b",
   "metadata": {},
   "outputs": [],
   "source": [
    "def u(n):\n",
    "    pass\n",
    "    \n",
    "\n",
    "assert u(3) == 54\n",
    "assert u(10) == 118098"
   ]
  },
  {
   "cell_type": "markdown",
   "id": "fa77c5f7",
   "metadata": {},
   "source": [
    "On peut également programmer le calcul des termes de cette suite en calquant sa\n",
    "définition par récurrence :"
   ]
  },
  {
   "cell_type": "code",
   "execution_count": 7,
   "id": "2ed2a489",
   "metadata": {},
   "outputs": [],
   "source": [
    "def u(n):\n",
    "    if n == 0 :\n",
    "        return 2\n",
    "    else :\n",
    "        return 3 * u(n-1)\n",
    "    \n",
    "\n",
    "assert u(3) == 54\n",
    "assert u(10) == 118098"
   ]
  },
  {
   "cell_type": "markdown",
   "id": "7897ea1d",
   "metadata": {},
   "source": [
    "![img](https://framagit.org/MarcDefernez/marc_defernez_nsi/-/raw/main/Terminale/4_La_recursivit%C3%A9/recurcif1.png)"
   ]
  },
  {
   "cell_type": "markdown",
   "id": "c51a2d1a",
   "metadata": {},
   "source": [
    "![img](https://framagit.org/MarcDefernez/marc_defernez_nsi/-/raw/main/Terminale/4_La_recursivit%C3%A9/recurcif2.png)"
   ]
  },
  {
   "cell_type": "markdown",
   "id": "b0cd0899",
   "metadata": {},
   "source": [
    "## La suite de Fibonacci"
   ]
  },
  {
   "cell_type": "markdown",
   "id": "a89e8f85",
   "metadata": {},
   "source": [
    "![wiki](https://upload.wikimedia.org/wikipedia/commons/thumb/c/c2/CMAP_-_Centre_de_Math%C3%A9matiques_Appliqu%C3%A9es_de_l%27Ecole_polytechnique.jpg/480px-CMAP_-_Centre_de_Math%C3%A9matiques_Appliqu%C3%A9es_de_l%27Ecole_polytechnique.jpg)"
   ]
  },
  {
   "cell_type": "markdown",
   "id": "c74bde9a",
   "metadata": {},
   "source": [
    "![fib](https://upload.wikimedia.org/wikipedia/commons/thumb/1/15/Fibonacci_Squares.svg/220px-Fibonacci_Squares.svg.png)"
   ]
  },
  {
   "cell_type": "markdown",
   "id": "b3dfd71d",
   "metadata": {},
   "source": [
    "![fibo](https://framagit.org/MarcDefernez/marc_defernez_nsi/-/raw/main/Terminale/4_La_recursivit%C3%A9/fibo.png)"
   ]
  },
  {
   "cell_type": "markdown",
   "id": "4c7ce12e",
   "metadata": {},
   "source": [
    "Les instructions fib(1) et fib(0) sont appelées les cas de base de ce programme récursif :\n",
    "il s’agit des cas pour lesquels on peut obtenir le résultat sans avoir recours à l’appel de\n",
    "la fonction.\n",
    "Les cas de base sont indispensables à toute fonction récursive : ils permettent au\n",
    "programme de se terminer. En effet, comme une fonction récursive s’appelle elle-\n",
    "même, alors, sans ces cas de base, la fonction s’appellerait à l’infini. C’est pour cette\n",
    "raison que les cas de base sont également appelés conditions d’arrêt.\n",
    "Pour concevoir un programme récursif, il faut toujours se poser la question : « quel(s)\n",
    "est(sont) le(s) cas de base ? »"
   ]
  },
  {
   "cell_type": "markdown",
   "id": "ad4809a8",
   "metadata": {},
   "source": [
    "<b>À faire :</b> programmer la fonction fib de façon récursive."
   ]
  },
  {
   "cell_type": "code",
   "execution_count": null,
   "id": "8251ffc5",
   "metadata": {},
   "outputs": [],
   "source": [
    "def fib(n):\n",
    "    pass\n",
    "    \n",
    "assert fib(3) == 3\n",
    "assert fib(7) == 21"
   ]
  },
  {
   "cell_type": "markdown",
   "id": "e3cd3e23",
   "metadata": {},
   "source": [
    "## La somme des n premiers entiers <br>\n"
   ]
  },
  {
   "cell_type": "markdown",
   "id": "47978553",
   "metadata": {},
   "source": [
    "Pour définir la somme des n premiers entiers, on a l’habitude d’écrire la formule\n",
    "suivante :\n",
    "0+1+2+3+4+...+n\n",
    "Une solution pour calculer cette somme consiste à utiliser une boucle for pour\n",
    "parcourir tous les entiers i entre 0 et n, en s’aidant d’une variable intermédiaire S pour\n",
    "accumuler la somme des entiers de 0 à i. On obtient par exemple le programme itératif\n",
    "suivant écrit en Python :"
   ]
  },
  {
   "cell_type": "code",
   "execution_count": null,
   "id": "11b67104",
   "metadata": {},
   "outputs": [],
   "source": [
    "def somme(n):\n",
    "    s=0\n",
    "    for i in range (n + 1 ):\n",
    "        s=s+i\n",
    "    return s\n",
    "\n",
    "somme(100)\n",
    "        "
   ]
  },
  {
   "cell_type": "markdown",
   "id": "a4397a3a",
   "metadata": {},
   "source": [
    "S’il n’est pas difficile de se convaincre que la fonction somme(n) ci-dessus calcule bien\n",
    "la somme des n premiers entiers, on peut néanmoins remarquer que ce code Python\n",
    "n’est pas directement lié à la formule de départ.\n",
    "En effet, il n’y a rien dans cette formule qui puisse laisser deviner qu’une variable\n",
    "intermédiaire S est nécessaire pour calculer cette somme...\n",
    "\n",
    "\n",
    "Il existe une autre manière d’aborder ce problème : il s’agit de définir la fonction\n",
    "récursive somme(n) qui, pour tout entier naturel n, donne la somme des n premiers\n",
    "entiers de la manière suivante :\n",
    "<br>si n=0 : somme (n) = 0\n",
    "<br>si n>0 : somme (n) = n+somme(n-1)"
   ]
  },
  {
   "cell_type": "markdown",
   "id": "8b962634",
   "metadata": {},
   "source": [
    "![img](https://framagit.org/MarcDefernez/marc_defernez_nsi/-/raw/main/Terminale/4_La_recursivit%C3%A9/formule.jpg)"
   ]
  },
  {
   "cell_type": "markdown",
   "id": "fe1248e0",
   "metadata": {},
   "source": [
    "<b>À faire :</b> programmer la fonction somme de façon récursive."
   ]
  },
  {
   "cell_type": "code",
   "execution_count": null,
   "id": "eb6422c2",
   "metadata": {},
   "outputs": [],
   "source": [
    "def somme(n):\n",
    "    '''\n",
    "    renvoie la somme 0+1+2+3+...+n avec n entier positif ou nul\n",
    "    : param n\n",
    "    type int\n",
    "    : return la somme\n",
    "    type int\n",
    "    '''\n",
    "    pass\n",
    "\n",
    "assert somme(4) == 10\n",
    "assert somme(100) == 5050"
   ]
  },
  {
   "cell_type": "markdown",
   "id": "70003f52",
   "metadata": {},
   "source": [
    "<b>À faire :</b> Dessiner l’arbre d’appels de cette fonction pour l’appel somme(5).\n",
    "Parcourir cet arbre d’appels «à rebours» pour illustrer le fonctionnement de\n",
    "la fonction somme comme cela a été fait dans la version récursive de fib()."
   ]
  },
  {
   "cell_type": "code",
   "execution_count": 3,
   "id": "57971491",
   "metadata": {},
   "outputs": [],
   "source": [
    "# pour faire ces illustrations, utiliser un papier et un crayon ou paint ect... : à faire valider par votre prof"
   ]
  },
  {
   "cell_type": "code",
   "execution_count": null,
   "id": "8a08d029",
   "metadata": {},
   "outputs": [],
   "source": [
    "def somme(n):\n",
    "    '''\n",
    "    renvoie la somme 0+1+2+3+...+n avec n entier positif ou nul\n",
    "    : param n\n",
    "    type int\n",
    "    : return la somme\n",
    "    type int\n",
    "    '''\n",
    "    if n == 0 : # on commence par le cas de base\n",
    "        return 0\n",
    "    else : # puis le cas récursif\n",
    "        return somme(n - 1) + n\n"
   ]
  },
  {
   "cell_type": "markdown",
   "id": "9f0aa48c",
   "metadata": {},
   "source": [
    "## Profondeur de récursion"
   ]
  },
  {
   "cell_type": "markdown",
   "id": "6f3abd75",
   "metadata": {},
   "source": [
    "Voyons ce qu'il se passe si on donne une valeur de n hors domaine de définition :"
   ]
  },
  {
   "cell_type": "code",
   "execution_count": null,
   "id": "566e3d70",
   "metadata": {},
   "outputs": [],
   "source": [
    "somme(-5)"
   ]
  },
  {
   "cell_type": "code",
   "execution_count": null,
   "id": "b4a3ebfa",
   "metadata": {},
   "outputs": [],
   "source": [
    "somme(3.4)"
   ]
  },
  {
   "cell_type": "code",
   "execution_count": null,
   "id": "58822604",
   "metadata": {},
   "outputs": [],
   "source": [
    "# Que constatez-vous ?"
   ]
  },
  {
   "cell_type": "markdown",
   "id": "45629ee8",
   "metadata": {},
   "source": [
    "Notre définition n'est valable que pour <span class=\"mord mathnormal\">n</span><span class=\"mspace\" style=\"margin-right:0.2777777777777778em;\"></span><span class=\"mrel\">∈</span><span class=\"mspace\" style=\"margin-right:0.2777777777777778em;\"></span></span><span class=\"base\"><span class=\"strut\" style=\"height:0.68889em;vertical-align:0em;\"></span><span class=\"mord mathbb\">N</span> Pour d'autres valeurs, le cas de base pourrait ne jamais être atteint, ce qui empêche la récursion de se terminer. Python boucle donc jusqu'à atteindre une profondeur de récursion trop importante qui déclenche une exception."
   ]
  },
  {
   "cell_type": "markdown",
   "id": "0edd1762",
   "metadata": {},
   "source": [
    "<b>Bonus</b> On peut trouver et modifier la valeur maximale de la profondeur :"
   ]
  },
  {
   "cell_type": "code",
   "execution_count": null,
   "id": "6e73b6a0",
   "metadata": {},
   "outputs": [],
   "source": [
    "import sys\n",
    "sys.getrecursionlimit()\n"
   ]
  },
  {
   "cell_type": "code",
   "execution_count": null,
   "id": "6b3cb7e5",
   "metadata": {},
   "outputs": [],
   "source": [
    "sys.setrecursionlimit(4000) \n",
    "sys.getrecursionlimit()\n"
   ]
  },
  {
   "cell_type": "markdown",
   "id": "87d697f1",
   "metadata": {},
   "source": [
    "## L’opération de puissance n-ième d’un nombre x"
   ]
  },
  {
   "cell_type": "markdown",
   "id": "d9253540",
   "metadata": {},
   "source": [
    "\n",
    "Il s’agit de la multiplication répétée n fois de x avec lui-même, que l’on écrit\n",
    "habituellement ainsi :\n",
    "xn = x. x. x. x... x. x Le facteur x est contenu n fois\n",
    "avec, par convention, x0=1.<br>\n",
    "Pour écrire une version récursive du calcul de xn, on va définir une fonction\n",
    "`puissance(x,n)` ainsi :<br>\n",
    "• on commence par déterminer le cas de base à cette opération : il s’agit du cas pour\n",
    "n=0 ;<br>\n",
    "• pour définir ensuite la valeur de puissance(x,n) pour un entier n strictement positif,\n",
    "on utilise le résultat suivant :<br>\n",
    "xn=x×xn−1<br>\n",
    "ainsi, xn s’obtient en multipliant x par xn−1. Une définition récursive de l’opération de\n",
    "puissance n-ième d’un nombre x est alors la suivante :<br>\n",
    "si n=0 xn = 1<br>\n",
    "si n>0 xn = x.xn-1"
   ]
  },
  {
   "cell_type": "markdown",
   "id": "91068440",
   "metadata": {},
   "source": [
    "<b>À faire :</b> Écrire la fonction récursive puissance(x,n) qui calcule le nombre xn pour tout\n",
    "entier naturel n.\n",
    "<br>\u0007Dessiner l’arbre d’appels de cette fonction lorsque x = 3 et n = 5."
   ]
  },
  {
   "cell_type": "code",
   "execution_count": null,
   "id": "6d32c6ec",
   "metadata": {},
   "outputs": [],
   "source": [
    "# pour faire ces illustrations, utiliser un papier et un crayon: à faire valider par votre prof"
   ]
  },
  {
   "cell_type": "code",
   "execution_count": 13,
   "id": "1291e9bc",
   "metadata": {},
   "outputs": [],
   "source": [
    "def puissance():\n",
    "    pass # ne pas oublier la docstring et les assertions"
   ]
  },
  {
   "cell_type": "code",
   "execution_count": 11,
   "id": "248ff9df",
   "metadata": {},
   "outputs": [
    {
     "data": {
      "text/plain": [
       "128"
      ]
     },
     "execution_count": 11,
     "metadata": {},
     "output_type": "execute_result"
    }
   ],
   "source": [
    "2**7"
   ]
  },
  {
   "cell_type": "code",
   "execution_count": 12,
   "id": "592361e6",
   "metadata": {},
   "outputs": [
    {
     "data": {
      "text/plain": [
       "1024"
      ]
     },
     "execution_count": 12,
     "metadata": {},
     "output_type": "execute_result"
    }
   ],
   "source": [
    "4**5"
   ]
  },
  {
   "cell_type": "markdown",
   "id": "87cc0082",
   "metadata": {},
   "source": [
    "![puissance](https://framagit.org/MarcDefernez/marc_defernez_nsi/-/raw/main/Terminale/4_La_recursivit%C3%A9/puissance.png)"
   ]
  },
  {
   "cell_type": "markdown",
   "id": "13800a16",
   "metadata": {},
   "source": [
    "## La fonction factorielle d’un entier naturel n"
   ]
  },
  {
   "cell_type": "markdown",
   "id": "4befb94d",
   "metadata": {},
   "source": [
    "![factoN](https://framagit.org/MarcDefernez/marc_defernez_nsi/-/raw/main/Terminale/4_La_recursivit%C3%A9/factoN.png)"
   ]
  },
  {
   "cell_type": "markdown",
   "id": "499bc6e7",
   "metadata": {},
   "source": [
    "<b>À faire :</b> Écrire la fonction récursive factorielle(n)"
   ]
  },
  {
   "cell_type": "code",
   "execution_count": 15,
   "id": "4e1858e2",
   "metadata": {},
   "outputs": [],
   "source": [
    "# votre code ici, Vérifier les résultats avec 5!=120 et 7!=5040"
   ]
  },
  {
   "cell_type": "markdown",
   "id": "1f5e2429",
   "metadata": {},
   "source": [
    "## Le maximum dans une liste de nombres"
   ]
  },
  {
   "cell_type": "markdown",
   "id": "72cecb2f",
   "metadata": {},
   "source": [
    "![maxList](https://framagit.org/MarcDefernez/marc_defernez_nsi/-/raw/main/Terminale/4_La_recursivit%C3%A9/MaxList.png)"
   ]
  },
  {
   "cell_type": "markdown",
   "id": "ab1b816e",
   "metadata": {},
   "source": [
    "<b>À faire :</b> Décrire, en langage usuel, le principe de fonctionnement de la fonction\n",
    "maximum_liste."
   ]
  },
  {
   "cell_type": "code",
   "execution_count": 16,
   "id": "05be2a86",
   "metadata": {},
   "outputs": [],
   "source": [
    "# votre réponse ici....."
   ]
  },
  {
   "cell_type": "markdown",
   "id": "520ba3cf",
   "metadata": {},
   "source": [
    "## Trouvez une définition récursive pour les problèmes ci-dessous puis programmez les en Python."
   ]
  },
  {
   "cell_type": "markdown",
   "id": "f19a64f4",
   "metadata": {},
   "source": [
    "a. Calculer n×p pour tout entier n et p en ne faisant que des additions."
   ]
  },
  {
   "cell_type": "code",
   "execution_count": null,
   "id": "46362ccd",
   "metadata": {},
   "outputs": [],
   "source": [
    "# votre code ici....."
   ]
  },
  {
   "cell_type": "markdown",
   "id": "8a127399",
   "metadata": {},
   "source": [
    "b. Cherchez une définition de renverser(chaine)dont le but est de renverser une chaîne de caractère ('abcde' devient 'edcba') ."
   ]
  },
  {
   "cell_type": "code",
   "execution_count": null,
   "id": "8e4e0af6",
   "metadata": {},
   "outputs": [],
   "source": [
    "# votre code ici....."
   ]
  },
  {
   "cell_type": "markdown",
   "id": "a96e1c62",
   "metadata": {},
   "source": [
    "c. On appelle palindrome un mot qui se lit dans les deux sens comme « été » ou « radar ».\n",
    "Écrire une fonction récursive palindrome qui teste si un mot est un palindrome."
   ]
  },
  {
   "cell_type": "code",
   "execution_count": null,
   "id": "6bd74f83",
   "metadata": {},
   "outputs": [],
   "source": [
    "# votre code ici....."
   ]
  },
  {
   "cell_type": "markdown",
   "id": "0ee53729",
   "metadata": {},
   "source": [
    "## Un exemple complémentaire (tout fait), si vous n'avez pas \"tout\" compris, c'est le moment de se poser les bonnes questions ..."
   ]
  },
  {
   "cell_type": "markdown",
   "id": "a5a151e1",
   "metadata": {},
   "source": [
    "![listAna](https://framagit.org/MarcDefernez/marc_defernez_nsi/-/raw/main/Terminale/4_La_recursivit%C3%A9/listeAna.png)"
   ]
  },
  {
   "cell_type": "markdown",
   "id": "ef168358",
   "metadata": {},
   "source": [
    "## Les Bubbles"
   ]
  },
  {
   "cell_type": "markdown",
   "id": "137b86fb",
   "metadata": {},
   "source": [
    "![bubbles](https://framagit.org/MarcDefernez/marc_defernez_nsi/-/raw/main/Terminale/4_La_recursivit%C3%A9/bubbles.png)"
   ]
  },
  {
   "cell_type": "markdown",
   "id": "38535e9b",
   "metadata": {},
   "source": [
    "![code](https://framagit.org/MarcDefernez/marc_defernez_nsi/-/raw/main/Terminale/4_La_recursivit%C3%A9/codeBubblesTurtle.png)"
   ]
  },
  {
   "cell_type": "markdown",
   "id": "1477a4d0",
   "metadata": {},
   "source": [
    "https://perso.limsi.fr/pointal/_media/python:turtle:turtleref.pdf"
   ]
  },
  {
   "cell_type": "markdown",
   "id": "9699e41c",
   "metadata": {},
   "source": [
    "# Le flocon de Von Koch"
   ]
  },
  {
   "cell_type": "markdown",
   "id": "96de9448",
   "metadata": {},
   "source": [
    "![flocon](https://framagit.org/MarcDefernez/marc_defernez_nsi/-/raw/main/Terminale/4_La_recursivit%C3%A9/flocon.png)"
   ]
  },
  {
   "cell_type": "code",
   "execution_count": 1,
   "id": "77bcb643",
   "metadata": {},
   "outputs": [
    {
     "data": {
      "text/html": [
       "\n",
       "        <iframe\n",
       "            width=\"800\"\n",
       "            height=\"400\"\n",
       "            src=\"https://perso.limsi.fr/pointal/_media/python:turtle:turtleref.pdf\"\n",
       "            frameborder=\"0\"\n",
       "            allowfullscreen\n",
       "            \n",
       "        ></iframe>\n",
       "        "
      ],
      "text/plain": [
       "<IPython.lib.display.IFrame at 0x2544743adc0>"
      ]
     },
     "execution_count": 1,
     "metadata": {},
     "output_type": "execute_result"
    }
   ],
   "source": [
    "from IPython.display import IFrame\n",
    "IFrame(\"https://perso.limsi.fr/pointal/_media/python:turtle:turtleref.pdf\", width=800, height=400)"
   ]
  },
  {
   "cell_type": "markdown",
   "id": "a11fbc80",
   "metadata": {},
   "source": [
    "![img](https://framagit.org/MarcDefernez/marc_defernez_nsi/-/raw/main/Terminale/4_La_recursivit%C3%A9/kochTurtle.png)"
   ]
  },
  {
   "cell_type": "markdown",
   "id": "f4637f5c",
   "metadata": {},
   "source": [
    "<b> A faire: </b> Le flocon de Von Koch est un classique au bac, recopier le code ci-dessus puis <br>1. \u0007Identifier le cas de base de la fonction récursive Koch(n,l). Que fait-il ?\n",
    "<br>\u0007 2. \u0007Modifier les paramètres n et l lors de l’appel à la fonction flocon et observer\n",
    "l’impact de ces modifications sur le dessin.\n",
    "<br>\u0007 3. \u0007Expliquer le principe de fonctionnement de ce programme."
   ]
  },
  {
   "cell_type": "code",
   "execution_count": 4,
   "id": "bb674441",
   "metadata": {},
   "outputs": [],
   "source": [
    "# votre code ici"
   ]
  },
  {
   "cell_type": "markdown",
   "id": "582f7e34",
   "metadata": {},
   "source": [
    "Vidéo du cours: https://app.box.com/s/ode44liz5uhmajt9ixltly0pvwy1l2x3"
   ]
  },
  {
   "cell_type": "markdown",
   "id": "33ab8737",
   "metadata": {},
   "source": [
    "source: éduscol"
   ]
  }
 ],
 "metadata": {
  "kernelspec": {
   "display_name": "Python 3 (ipykernel)",
   "language": "python",
   "name": "python3"
  },
  "language_info": {
   "codemirror_mode": {
    "name": "ipython",
    "version": 3
   },
   "file_extension": ".py",
   "mimetype": "text/x-python",
   "name": "python",
   "nbconvert_exporter": "python",
   "pygments_lexer": "ipython3",
   "version": "3.9.12"
  }
 },
 "nbformat": 4,
 "nbformat_minor": 5
}
